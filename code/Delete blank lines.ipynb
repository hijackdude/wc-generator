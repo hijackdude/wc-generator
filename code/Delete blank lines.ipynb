{
 "cells": [
  {
   "cell_type": "code",
   "execution_count": 33,
   "id": "290245fe",
   "metadata": {},
   "outputs": [],
   "source": [
    "import pandas as pd"
   ]
  },
  {
   "cell_type": "code",
   "execution_count": 34,
   "id": "878f9341",
   "metadata": {
    "scrolled": true
   },
   "outputs": [
    {
     "name": "stdout",
     "output_type": "stream",
     "text": [
      "                                       Job title Business Group Job location  \\\n",
      "0                            WXG02-微信支付高级DBA（深圳）            WXG           深圳   \n",
      "1                     WXG02-微信终端质量平台开发工程师(广州/深圳)            WXG           广州   \n",
      "2                        WXG12-微信运营平台系统开发工程师（广州）            WXG           广州   \n",
      "3                          WXG02-微信终端测试开发工程师（北京）            WXG           北京   \n",
      "4                          WXG02-微信监控平台开发工程师（广州）            WXG           广州   \n",
      "...                                          ...            ...          ...   \n",
      "13235  41071-腾讯云 SDK 终端研发工程师(Android 方向)（广州）-专项R           CSIG           广州   \n",
      "13236                        28937-洛克王国手游3D角色设计师            IEG           深圳   \n",
      "13237              TEG15-腾讯金融数据库TDSQL DBA（北京/深圳）            TEG           深圳   \n",
      "13238                             TEG13-高级研发项目经理            TEG           深圳   \n",
      "13239                        21089-英雄联盟高级前端开发工程师            IEG           深圳   \n",
      "\n",
      "      Country of work Job category  \\\n",
      "0                  中国           技术   \n",
      "1                  中国           技术   \n",
      "2                  中国           技术   \n",
      "3                  中国           技术   \n",
      "4                  中国           技术   \n",
      "...               ...          ...   \n",
      "13235              中国           技术   \n",
      "13236              中国           设计   \n",
      "13237              中国           技术   \n",
      "13238              中国           产品   \n",
      "13239              中国           技术   \n",
      "\n",
      "                                        Responsibilities  \\\n",
      "0      负责微信支付下商业支付和社交支付各业务的数据库运维工作；\\n负责数据库的日常运维、数据安全、...   \n",
      "1      1、面向微信终端的大规模质量数据，如Crash、卡顿、耗时等，搭建质量运营分析平台。\\n2、...   \n",
      "2      负责微信内部大型运营平台系统的后台开发和维护；\\n负责微信内部大数据分析相关系统的后台开发和...   \n",
      "3      负责测试秒剪App，开发测试工具； 设计具有高扩展性、强可靠性、高性能的测试框架； 优化软件...   \n",
      "4      负责微信运营监控系统的开发、维护，包括：\\n1、负责监控日志收集、日志处理、数据存储平台的开...   \n",
      "...                                                  ...   \n",
      "13235  （1）负责腾讯云终端 SDK 的功能开发和效果优化相关;\\n（2）包括 “IM SDK”，用...   \n",
      "13236  根据原画设计制作3D角色模型和材质；\\n并配合原画去完善设计，打磨品质；\\n资源的输出和管理...   \n",
      "13237  关于我们：TDSQL是腾讯自主研发的金融级分布式数据库，十几年来承载了腾讯近90%的金融、交...   \n",
      "13238  1、负责统筹部门多个研发项目的需求管理、资源协调与组织，跟进项目计划和排期； \\n2、梳理重...   \n",
      "13239  负责英雄联盟产品全平台前端页面开发、维护和优化工作；\\n负责团队前端代码规范、组件库、工程化...   \n",
      "\n",
      "               Link to where the specific job is posted.  \n",
      "0      http://careers.tencent.com/jobdesc.html?postId...  \n",
      "1      http://careers.tencent.com/jobdesc.html?postId...  \n",
      "2      http://careers.tencent.com/jobdesc.html?postId...  \n",
      "3      http://careers.tencent.com/jobdesc.html?postId...  \n",
      "4      http://careers.tencent.com/jobdesc.html?postId...  \n",
      "...                                                  ...  \n",
      "13235  http://careers.tencent.com/jobdesc.html?postId...  \n",
      "13236  http://careers.tencent.com/jobdesc.html?postId...  \n",
      "13237  http://careers.tencent.com/jobdesc.html?postId...  \n",
      "13238   http://careers.tencent.com/jobdesc.html?postId=0  \n",
      "13239  http://careers.tencent.com/jobdesc.html?postId...  \n",
      "\n",
      "[13240 rows x 7 columns]\n"
     ]
    }
   ],
   "source": [
    "import pandas as pd\n",
    " \n",
    "data=pd.read_csv('Tencent raw data.csv')\n",
    "pds=pd.DataFrame(data=data)\n",
    "print(pds)"
   ]
  },
  {
   "cell_type": "code",
   "execution_count": 35,
   "id": "ef1aab95",
   "metadata": {},
   "outputs": [
    {
     "name": "stdout",
     "output_type": "stream",
     "text": [
      "                                       Job title Business Group Job location  \\\n",
      "0                            WXG02-微信支付高级DBA（深圳）            WXG           深圳   \n",
      "1                     WXG02-微信终端质量平台开发工程师(广州/深圳)            WXG           广州   \n",
      "2                        WXG12-微信运营平台系统开发工程师（广州）            WXG           广州   \n",
      "3                          WXG02-微信终端测试开发工程师（北京）            WXG           北京   \n",
      "4                          WXG02-微信监控平台开发工程师（广州）            WXG           广州   \n",
      "...                                          ...            ...          ...   \n",
      "13235  41071-腾讯云 SDK 终端研发工程师(Android 方向)（广州）-专项R           CSIG           广州   \n",
      "13236                        28937-洛克王国手游3D角色设计师            IEG           深圳   \n",
      "13237              TEG15-腾讯金融数据库TDSQL DBA（北京/深圳）            TEG           深圳   \n",
      "13238                             TEG13-高级研发项目经理            TEG           深圳   \n",
      "13239                        21089-英雄联盟高级前端开发工程师            IEG           深圳   \n",
      "\n",
      "      Country of work Job category  \\\n",
      "0                  中国           技术   \n",
      "1                  中国           技术   \n",
      "2                  中国           技术   \n",
      "3                  中国           技术   \n",
      "4                  中国           技术   \n",
      "...               ...          ...   \n",
      "13235              中国           技术   \n",
      "13236              中国           设计   \n",
      "13237              中国           技术   \n",
      "13238              中国           产品   \n",
      "13239              中国           技术   \n",
      "\n",
      "                                        Responsibilities  \\\n",
      "0      负责微信支付下商业支付和社交支付各业务的数据库运维工作；\\n负责数据库的日常运维、数据安全、...   \n",
      "1      1、面向微信终端的大规模质量数据，如Crash、卡顿、耗时等，搭建质量运营分析平台。\\n2、...   \n",
      "2      负责微信内部大型运营平台系统的后台开发和维护；\\n负责微信内部大数据分析相关系统的后台开发和...   \n",
      "3      负责测试秒剪App，开发测试工具； 设计具有高扩展性、强可靠性、高性能的测试框架； 优化软件...   \n",
      "4      负责微信运营监控系统的开发、维护，包括：\\n1、负责监控日志收集、日志处理、数据存储平台的开...   \n",
      "...                                                  ...   \n",
      "13235  （1）负责腾讯云终端 SDK 的功能开发和效果优化相关;\\n（2）包括 “IM SDK”，用...   \n",
      "13236  根据原画设计制作3D角色模型和材质；\\n并配合原画去完善设计，打磨品质；\\n资源的输出和管理...   \n",
      "13237  关于我们：TDSQL是腾讯自主研发的金融级分布式数据库，十几年来承载了腾讯近90%的金融、交...   \n",
      "13238  1、负责统筹部门多个研发项目的需求管理、资源协调与组织，跟进项目计划和排期； \\n2、梳理重...   \n",
      "13239  负责英雄联盟产品全平台前端页面开发、维护和优化工作；\\n负责团队前端代码规范、组件库、工程化...   \n",
      "\n",
      "               Link to where the specific job is posted.  \n",
      "0      http://careers.tencent.com/jobdesc.html?postId...  \n",
      "1      http://careers.tencent.com/jobdesc.html?postId...  \n",
      "2      http://careers.tencent.com/jobdesc.html?postId...  \n",
      "3      http://careers.tencent.com/jobdesc.html?postId...  \n",
      "4      http://careers.tencent.com/jobdesc.html?postId...  \n",
      "...                                                  ...  \n",
      "13235  http://careers.tencent.com/jobdesc.html?postId...  \n",
      "13236  http://careers.tencent.com/jobdesc.html?postId...  \n",
      "13237  http://careers.tencent.com/jobdesc.html?postId...  \n",
      "13238   http://careers.tencent.com/jobdesc.html?postId=0  \n",
      "13239  http://careers.tencent.com/jobdesc.html?postId...  \n",
      "\n",
      "[13146 rows x 7 columns]\n"
     ]
    }
   ],
   "source": [
    "# Method for removing null rows\n",
    "pddrop=pds.dropna()\n",
    "print(pddrop)"
   ]
  },
  {
   "cell_type": "code",
   "execution_count": 31,
   "id": "cb426735",
   "metadata": {},
   "outputs": [],
   "source": [
    "# Regenerate the new form\n",
    "pddrop.to_csv('Cleaned Tencent.csv',index=False)"
   ]
  },
  {
   "cell_type": "code",
   "execution_count": null,
   "id": "e0e6a947",
   "metadata": {},
   "outputs": [],
   "source": []
  }
 ],
 "metadata": {
  "kernelspec": {
   "display_name": "Python 3",
   "language": "python",
   "name": "python3"
  },
  "language_info": {
   "codemirror_mode": {
    "name": "ipython",
    "version": 3
   },
   "file_extension": ".py",
   "mimetype": "text/x-python",
   "name": "python",
   "nbconvert_exporter": "python",
   "pygments_lexer": "ipython3",
   "version": "3.8.8"
  }
 },
 "nbformat": 4,
 "nbformat_minor": 5
}
